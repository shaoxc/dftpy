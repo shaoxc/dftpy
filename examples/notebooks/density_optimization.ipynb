{
 "cells": [
  {
   "cell_type": "markdown",
   "metadata": {},
   "source": [
    "# Optimization"
   ]
  },
  {
   "cell_type": "markdown",
   "metadata": {},
   "source": [
    "## import some modules"
   ]
  },
  {
   "cell_type": "code",
   "execution_count": 1,
   "metadata": {},
   "outputs": [],
   "source": [
    "from dftpy.ions import Ions\n",
    "from dftpy.field import DirectField\n",
    "from dftpy.grid import DirectGrid\n",
    "from dftpy.functional import LocalPseudo, Functional, TotalFunctional\n",
    "from dftpy.formats import io\n",
    "from dftpy.math_utils import ecut2nr\n",
    "from dftpy.time_data import TimeData\n",
    "from dftpy.optimization import Optimization\n",
    "from dftpy.mpi import sprint"
   ]
  },
  {
   "cell_type": "markdown",
   "metadata": {},
   "source": [
    "## pseudopotential file"
   ]
  },
  {
   "cell_type": "code",
   "execution_count": 2,
   "metadata": {},
   "outputs": [],
   "source": [
    "path_pp='../DATA/'\n",
    "file1='Al_lda.oe01.recpot'\n",
    "PP_list = {'Al': path_pp+file1}"
   ]
  },
  {
   "cell_type": "markdown",
   "metadata": {},
   "source": [
    "## build the ions or read from file"
   ]
  },
  {
   "cell_type": "code",
   "execution_count": 3,
   "metadata": {},
   "outputs": [],
   "source": [
    "from ase.build import bulk\n",
    "atoms = bulk('Al', 'fcc', a=4.05, cubic=True)\n",
    "ions = Ions.from_ase(atoms)\n",
    "# ions = io.read(posfile)"
   ]
  },
  {
   "cell_type": "markdown",
   "metadata": {},
   "source": [
    "## make a grid"
   ]
  },
  {
   "cell_type": "code",
   "execution_count": 4,
   "metadata": {},
   "outputs": [
    {
     "name": "stdout",
     "output_type": "stream",
     "text": [
      "The final grid size is  [20 20 20]\n"
     ]
    }
   ],
   "source": [
    "nr = ecut2nr(ecut=35, lattice=ions.cell)\n",
    "grid = DirectGrid(lattice=ions.cell, nr=nr)\n",
    "sprint('The final grid size is ', nr)"
   ]
  },
  {
   "cell_type": "markdown",
   "metadata": {},
   "source": [
    "##  build local pseudo, and generate guess density"
   ]
  },
  {
   "cell_type": "code",
   "execution_count": 5,
   "metadata": {},
   "outputs": [
    {
     "name": "stdout",
     "output_type": "stream",
     "text": [
      "setting key: Al -> ../DATA/Al_lda.oe01.recpot\n"
     ]
    }
   ],
   "source": [
    "PSEUDO = LocalPseudo(grid = grid, ions=ions, PP_list=PP_list)\n",
    "\n",
    "rho_ini = DirectField(grid=grid)\n",
    "rho_ini[:] = ions.get_ncharges()/ions.cell.volume"
   ]
  },
  {
   "cell_type": "markdown",
   "metadata": {},
   "source": [
    "## instance KEDF, XC and HARTREE functionals"
   ]
  },
  {
   "cell_type": "code",
   "execution_count": 6,
   "metadata": {},
   "outputs": [],
   "source": [
    "KE = Functional(type='KEDF',name='TFvW')\n",
    "XC = Functional(type='XC',name='LDA')\n",
    "HARTREE = Functional(type='HARTREE')"
   ]
  },
  {
   "cell_type": "markdown",
   "metadata": {},
   "source": [
    "## instance DFTpy evaluator"
   ]
  },
  {
   "cell_type": "code",
   "execution_count": 7,
   "metadata": {},
   "outputs": [],
   "source": [
    "evaluator = TotalFunctional(KE=KE, XC=XC, HARTREE=HARTREE, PSEUDO=PSEUDO)"
   ]
  },
  {
   "cell_type": "markdown",
   "metadata": {},
   "source": [
    "## instance and execute DFTpy density optimizer"
   ]
  },
  {
   "cell_type": "code",
   "execution_count": 8,
   "metadata": {},
   "outputs": [
    {
     "name": "stdout",
     "output_type": "stream",
     "text": [
      "Step    Energy(a.u.)            dE              dP              Nd      Nls     Time(s)         \n",
      "0       -8.090977710718E+00     -8.090978E+00   7.877088E-01    1       1       1.902819E-02    \n",
      "1       -8.273226052119E+00     -1.822483E-01   7.033208E-02    2       1       3.294325E-02    \n",
      "2       -8.280858141000E+00     -7.632089E-03   4.803522E-03    7       1       5.704927E-02    \n",
      "3       -8.281101062862E+00     -2.429219E-04   3.640550E-04    5       1       7.545233E-02    \n",
      "4       -8.281135978745E+00     -3.491588E-05   3.590863E-05    6       1       9.528708E-02    \n",
      "5       -8.281138625688E+00     -2.646943E-06   2.500624E-06    5       1       1.117182E-01    \n",
      "6       -8.281138996216E+00     -3.705278E-07   4.567996E-08    8       1       1.352971E-01    \n",
      "#### Density Optimization Converged ####\n",
      "Chemical potential (a.u.): 0.30115196532053357\n",
      "Chemical potential (eV)  : 8.194762380333897\n"
     ]
    }
   ],
   "source": [
    "optimization_options = {'econv' : 1e-6*ions.nat}\n",
    "opt = Optimization(EnergyEvaluator=evaluator, optimization_options = optimization_options,\n",
    "        optimization_method = 'TN')\n",
    "\n",
    "rho = opt.optimize_rho(guess_rho=rho_ini)"
   ]
  },
  {
   "cell_type": "markdown",
   "metadata": {},
   "source": [
    "## evaluate final energy"
   ]
  },
  {
   "cell_type": "code",
   "execution_count": 9,
   "metadata": {},
   "outputs": [
    {
     "name": "stdout",
     "output_type": "stream",
     "text": [
      "Energy (a.u.) -8.2811389962163\n"
     ]
    }
   ],
   "source": [
    "energy = evaluator.Energy(rho=rho, ions=ions)\n",
    "print('Energy (a.u.)', energy)"
   ]
  },
  {
   "cell_type": "markdown",
   "metadata": {},
   "source": [
    "##  print the timing"
   ]
  },
  {
   "cell_type": "code",
   "execution_count": 10,
   "metadata": {},
   "outputs": [
    {
     "name": "stdout",
     "output_type": "stream",
     "text": [
      "--------------------------------Time information--------------------------------\n",
      "Label                       Cost(s)                 Number          Avg. Cost(s)            \n",
      "ewald.Energy_corr           0.0001                  1               0.0001                  \n",
      "CBspline._calc_PME_Qarray   0.0016                  1               0.0016                  \n",
      "ewald.Energy_rec_PME        0.0025                  1               0.0025                  \n",
      "LocalPseudo.local_PP        0.0045                  1               0.0045                  \n",
      "ewald.Energy_real_fast2     0.0054                  1               0.0054                  \n",
      "TF                          0.0066                  41              0.0002                  \n",
      "ewald.energy                0.0080                  41              0.0002                  \n",
      "LDA                         0.0125                  41              0.0003                  \n",
      "FFT                         0.0320                  84              0.0004                  \n",
      "InvFFT                      0.0359                  83              0.0004                  \n",
      "Hartree.compute             0.0364                  41              0.0009                  \n",
      "vW                          0.0458                  41              0.0011                  \n",
      "Optimize                    0.1377                  1               0.1377                  \n"
     ]
    }
   ],
   "source": [
    "TimeData.output(lprint=True, sort='cost')"
   ]
  },
  {
   "cell_type": "code",
   "execution_count": 11,
   "metadata": {
    "tags": []
   },
   "outputs": [],
   "source": [
    "rho.write('rho.xsf', ions=ions)\n",
    "rho.write('rho.cube', ions=ions)"
   ]
  },
  {
   "cell_type": "markdown",
   "metadata": {},
   "source": [
    "## Visualize with scikit-image and matplotlib"
   ]
  },
  {
   "cell_type": "markdown",
   "metadata": {},
   "source": [
    "!pip install scikit-image matplotlib"
   ]
  },
  {
   "cell_type": "code",
   "execution_count": 12,
   "metadata": {},
   "outputs": [],
   "source": [
    "from dftpy.visualize import view"
   ]
  },
  {
   "cell_type": "markdown",
   "metadata": {},
   "source": [
    "## Visualize with VESTA"
   ]
  },
  {
   "cell_type": "code",
   "execution_count": 15,
   "metadata": {},
   "outputs": [
    {
     "name": "stdout",
     "output_type": "stream",
     "text": [
      "save ./.dftpy.xsf in darwin platform\n"
     ]
    }
   ],
   "source": [
    "view(ions=ions, data=rho, viewer='vesta')"
   ]
  }
 ],
 "metadata": {
  "kernelspec": {
   "display_name": "Python 3 (ipykernel)",
   "language": "python",
   "name": "python3"
  },
  "language_info": {
   "codemirror_mode": {
    "name": "ipython",
    "version": 3
   },
   "file_extension": ".py",
   "mimetype": "text/x-python",
   "name": "python",
   "nbconvert_exporter": "python",
   "pygments_lexer": "ipython3",
   "version": "3.12.5"
  }
 },
 "nbformat": 4,
 "nbformat_minor": 4
}
